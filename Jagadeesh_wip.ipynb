{
 "cells": [
  {
   "cell_type": "markdown",
   "id": "e76f29c8-6872-445c-b6e1-502b6c15b7ee",
   "metadata": {},
   "source": [
    "## Importing  required Libraries and function"
   ]
  },
  {
   "cell_type": "code",
   "execution_count": 406,
   "id": "0bc8755f-f4ca-4f2b-8dbf-cd06d0f0bad3",
   "metadata": {},
   "outputs": [],
   "source": [
    "import pandas as pd\n",
    "import numpy as np\n",
    "import seaborn as sns\n",
    "import matplotlib.pyplot as plt\n",
    "from sklearn.preprocessing import OneHotEncoder , StandardScaler\n",
    "from sklearn.model_selection import train_test_split ,GridSearchCV\n",
    "from sklearn.linear_model import LogisticRegression\n",
    "from sklearn.ensemble import RandomForestClassifier \n",
    "from sklearn.metrics import classification_report, confusion_matrix, roc_auc_score\n",
    "from imblearn.under_sampling import RandomUnderSampler\n",
    "from imblearn.over_sampling import RandomOverSampler,SMOTE\n",
    "import os\n",
    "import joblib\n",
    "\n",
    "\n",
    "import warnings\n",
    "warnings.filterwarnings('ignore')\n",
    "from sklearn.metrics import accuracy_score , classification_report , confusion_matrix"
   ]
  },
  {
   "cell_type": "code",
   "execution_count": 408,
   "id": "a0ee60ea-9bb2-4f6b-aebf-5a95cbc7c0e6",
   "metadata": {},
   "outputs": [
    {
     "name": "stdout",
     "output_type": "stream",
     "text": [
      "Accuracy: 0.8774369604576107\n",
      "Confusion Matrix:\n",
      " [[66880     0]\n",
      " [ 9342     0]]\n",
      "Classification Report:\n",
      "               precision    recall  f1-score   support\n",
      "\n",
      "           0       0.88      1.00      0.93     66880\n",
      "           1       0.00      0.00      0.00      9342\n",
      "\n",
      "    accuracy                           0.88     76222\n",
      "   macro avg       0.44      0.50      0.47     76222\n",
      "weighted avg       0.77      0.88      0.82     76222\n",
      "\n"
     ]
    },
    {
     "data": {
      "text/plain": [
       "['jobchg_log_model.pkl']"
      ]
     },
     "execution_count": 408,
     "metadata": {},
     "output_type": "execute_result"
    }
   ],
   "source": [
    "data = pd.read_csv('train.csv')\n",
    "\n",
    "# Drop unnecessary columns\n",
    "data = data.drop(columns=['id', 'Vehicle_Age'])\n",
    "\n",
    "# Encode categorical features\n",
    "data['Gender'].replace({'Male': 1, 'Female': 0}, inplace=True)\n",
    "data['Vehicle_Damage'].replace({'Yes': 1, 'No': 0}, inplace=True)\n",
    "\n",
    "# Define features and target variable\n",
    "X = data.drop(columns=['Response'])\n",
    "y = data['Response']\n",
    "\n",
    "# Step 1: Split Data Before Scaling\n",
    "X_train, X_test, y_train, y_test = train_test_split(X, y, test_size=0.2, stratify=y, random_state=42)\n",
    "\n",
    "# Step 2: Standard Scaling\n",
    "scaler = StandardScaler()\n",
    "X_train_scaled = scaler.fit_transform(X_train)\n",
    "X_test_scaled = scaler.transform(X_test)\n",
    "\n",
    "# Step 3: Train Logistic Regression Model\n",
    "modellog = LogisticRegression()\n",
    "modellog.fit(X_train_scaled, y_train)\n",
    "\n",
    "# Step 4: Make Predictions\n",
    "y_pred = modellog.predict(X_test_scaled)\n",
    "\n",
    "# Step 5: Evaluate Model\n",
    "accuracy = accuracy_score(y_test, y_pred)\n",
    "print(\"Accuracy:\", accuracy)\n",
    "print(\"Confusion Matrix:\\n\", confusion_matrix(y_test, y_pred))\n",
    "print(\"Classification Report:\\n\", classification_report(y_test, y_pred))\n",
    "\n",
    "# Step 6: Save Model Using Joblib\n",
    "joblib.dump(modellog, 'jobchg_log_model.pkl')"
   ]
  },
  {
   "cell_type": "code",
   "execution_count": 410,
   "id": "3d9956ac-bfb9-4c8c-9d14-13251772c7f9",
   "metadata": {},
   "outputs": [
    {
     "name": "stdout",
     "output_type": "stream",
     "text": [
      "True\n",
      "File Size (KB): 0.9208984375\n"
     ]
    }
   ],
   "source": [
    "import os\n",
    "print(os.path.exists('jobchg_log_model.pkl'))  # Should return True\n",
    "print(\"File Size (KB):\", os.path.getsize('jobchg_log_model.pkl') / 1024)"
   ]
  },
  {
   "cell_type": "code",
   "execution_count": null,
   "id": "10e39370-0a9b-4f8d-81ff-bbdce30a81d4",
   "metadata": {},
   "outputs": [],
   "source": []
  },
  {
   "cell_type": "code",
   "execution_count": null,
   "id": "e980a60f-3f32-4513-8493-bb79b4fdc974",
   "metadata": {},
   "outputs": [],
   "source": []
  },
  {
   "cell_type": "code",
   "execution_count": null,
   "id": "24c29133-19a2-4658-bd00-7add84370e16",
   "metadata": {},
   "outputs": [],
   "source": []
  },
  {
   "cell_type": "code",
   "execution_count": null,
   "id": "89f4aa08-573b-4fe1-8040-693a25d5a347",
   "metadata": {},
   "outputs": [],
   "source": []
  },
  {
   "cell_type": "code",
   "execution_count": null,
   "id": "8bd9ff88-3931-4fd0-92a8-25590f2ebf81",
   "metadata": {},
   "outputs": [],
   "source": []
  }
 ],
 "metadata": {
  "kernelspec": {
   "display_name": "Python [conda env:base] *",
   "language": "python",
   "name": "conda-base-py"
  },
  "language_info": {
   "codemirror_mode": {
    "name": "ipython",
    "version": 3
   },
   "file_extension": ".py",
   "mimetype": "text/x-python",
   "name": "python",
   "nbconvert_exporter": "python",
   "pygments_lexer": "ipython3",
   "version": "3.12.7"
  }
 },
 "nbformat": 4,
 "nbformat_minor": 5
}
